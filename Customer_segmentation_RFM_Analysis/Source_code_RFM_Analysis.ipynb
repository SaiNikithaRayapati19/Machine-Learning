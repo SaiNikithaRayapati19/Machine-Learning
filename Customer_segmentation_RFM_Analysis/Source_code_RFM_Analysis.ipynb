{
 "cells": [
  {
   "cell_type": "markdown",
   "id": "2d5d9485",
   "metadata": {},
   "source": [
    "# RFM Analysis: Unveiling Customer Segmentation Insights"
   ]
  },
  {
   "cell_type": "markdown",
   "id": "40e90aad",
   "metadata": {},
   "source": [
    "### Importing Libraries"
   ]
  },
  {
   "cell_type": "code",
   "execution_count": 1,
   "id": "c2edc5e8",
   "metadata": {},
   "outputs": [],
   "source": [
    "import pandas as pd\n",
    "import numpy as np\n",
    "import matplotlib.pyplot as plt\n",
    "import seaborn as sns"
   ]
  },
  {
   "cell_type": "markdown",
   "id": "7bb0d6f7",
   "metadata": {},
   "source": [
    "### Reading Data"
   ]
  },
  {
   "cell_type": "code",
   "execution_count": 2,
   "id": "d3d5187a",
   "metadata": {},
   "outputs": [
    {
     "data": {
      "text/html": [
       "<div>\n",
       "<style scoped>\n",
       "    .dataframe tbody tr th:only-of-type {\n",
       "        vertical-align: middle;\n",
       "    }\n",
       "\n",
       "    .dataframe tbody tr th {\n",
       "        vertical-align: top;\n",
       "    }\n",
       "\n",
       "    .dataframe thead th {\n",
       "        text-align: right;\n",
       "    }\n",
       "</style>\n",
       "<table border=\"1\" class=\"dataframe\">\n",
       "  <thead>\n",
       "    <tr style=\"text-align: right;\">\n",
       "      <th></th>\n",
       "      <th>InvoiceNo</th>\n",
       "      <th>StockCode</th>\n",
       "      <th>Description</th>\n",
       "      <th>Quantity</th>\n",
       "      <th>InvoiceDate</th>\n",
       "      <th>UnitPrice</th>\n",
       "      <th>CustomerID</th>\n",
       "      <th>Country</th>\n",
       "      <th>TotalPrice</th>\n",
       "    </tr>\n",
       "  </thead>\n",
       "  <tbody>\n",
       "    <tr>\n",
       "      <th>0</th>\n",
       "      <td>536365</td>\n",
       "      <td>85123A</td>\n",
       "      <td>white hanging heart t-light holder</td>\n",
       "      <td>6</td>\n",
       "      <td>2010-12-01 08:26:00</td>\n",
       "      <td>2.55</td>\n",
       "      <td>17850.0</td>\n",
       "      <td>United Kingdom</td>\n",
       "      <td>15.30</td>\n",
       "    </tr>\n",
       "    <tr>\n",
       "      <th>1</th>\n",
       "      <td>536365</td>\n",
       "      <td>71053</td>\n",
       "      <td>white metal lantern</td>\n",
       "      <td>6</td>\n",
       "      <td>2010-12-01 08:26:00</td>\n",
       "      <td>3.39</td>\n",
       "      <td>17850.0</td>\n",
       "      <td>United Kingdom</td>\n",
       "      <td>20.34</td>\n",
       "    </tr>\n",
       "    <tr>\n",
       "      <th>2</th>\n",
       "      <td>536365</td>\n",
       "      <td>84406B</td>\n",
       "      <td>cream cupid hearts coat hanger</td>\n",
       "      <td>8</td>\n",
       "      <td>2010-12-01 08:26:00</td>\n",
       "      <td>2.75</td>\n",
       "      <td>17850.0</td>\n",
       "      <td>United Kingdom</td>\n",
       "      <td>22.00</td>\n",
       "    </tr>\n",
       "    <tr>\n",
       "      <th>3</th>\n",
       "      <td>536365</td>\n",
       "      <td>84029G</td>\n",
       "      <td>knitted union flag hot water bottle</td>\n",
       "      <td>6</td>\n",
       "      <td>2010-12-01 08:26:00</td>\n",
       "      <td>3.39</td>\n",
       "      <td>17850.0</td>\n",
       "      <td>United Kingdom</td>\n",
       "      <td>20.34</td>\n",
       "    </tr>\n",
       "    <tr>\n",
       "      <th>4</th>\n",
       "      <td>536365</td>\n",
       "      <td>84029E</td>\n",
       "      <td>red woolly hottie white heart.</td>\n",
       "      <td>6</td>\n",
       "      <td>2010-12-01 08:26:00</td>\n",
       "      <td>3.39</td>\n",
       "      <td>17850.0</td>\n",
       "      <td>United Kingdom</td>\n",
       "      <td>20.34</td>\n",
       "    </tr>\n",
       "  </tbody>\n",
       "</table>\n",
       "</div>"
      ],
      "text/plain": [
       "   InvoiceNo StockCode                          Description  Quantity  \\\n",
       "0     536365    85123A   white hanging heart t-light holder         6   \n",
       "1     536365     71053                  white metal lantern         6   \n",
       "2     536365    84406B       cream cupid hearts coat hanger         8   \n",
       "3     536365    84029G  knitted union flag hot water bottle         6   \n",
       "4     536365    84029E       red woolly hottie white heart.         6   \n",
       "\n",
       "           InvoiceDate  UnitPrice  CustomerID         Country  TotalPrice  \n",
       "0  2010-12-01 08:26:00       2.55     17850.0  United Kingdom       15.30  \n",
       "1  2010-12-01 08:26:00       3.39     17850.0  United Kingdom       20.34  \n",
       "2  2010-12-01 08:26:00       2.75     17850.0  United Kingdom       22.00  \n",
       "3  2010-12-01 08:26:00       3.39     17850.0  United Kingdom       20.34  \n",
       "4  2010-12-01 08:26:00       3.39     17850.0  United Kingdom       20.34  "
      ]
     },
     "execution_count": 2,
     "metadata": {},
     "output_type": "execute_result"
    }
   ],
   "source": [
    "df_data=pd.read_csv(r\"C:\\Users\\sm983\\Desktop\\ML Advanced Exam Paper\\Dataset\\RFM Dataset\\RFM data.csv\")\n",
    "df_data.head()"
   ]
  },
  {
   "cell_type": "markdown",
   "id": "ef8728ab",
   "metadata": {},
   "source": [
    "### Checking shape"
   ]
  },
  {
   "cell_type": "code",
   "execution_count": 3,
   "id": "b582da0d",
   "metadata": {},
   "outputs": [
    {
     "data": {
      "text/plain": [
       "(392735, 9)"
      ]
     },
     "execution_count": 3,
     "metadata": {},
     "output_type": "execute_result"
    }
   ],
   "source": [
    "df_data.shape"
   ]
  },
  {
   "cell_type": "markdown",
   "id": "487b86a7",
   "metadata": {},
   "source": [
    "### Checking overview of Data"
   ]
  },
  {
   "cell_type": "code",
   "execution_count": 42,
   "id": "f747c342",
   "metadata": {},
   "outputs": [
    {
     "name": "stdout",
     "output_type": "stream",
     "text": [
      "<class 'pandas.core.frame.DataFrame'>\n",
      "Index: 18046 entries, 0 to 392720\n",
      "Data columns (total 11 columns):\n",
      " #   Column       Non-Null Count  Dtype          \n",
      "---  ------       --------------  -----          \n",
      " 0   InvoiceNo    18046 non-null  int64          \n",
      " 1   StockCode    18046 non-null  object         \n",
      " 2   Description  18046 non-null  object         \n",
      " 3   Quantity     18046 non-null  int64          \n",
      " 4   UnitPrice    18046 non-null  float64        \n",
      " 5   CustomerID   18046 non-null  int32          \n",
      " 6   Country      18046 non-null  object         \n",
      " 7   TotalPrice   18046 non-null  float64        \n",
      " 8   Date         18046 non-null  datetime64[ns] \n",
      " 9   Time         18046 non-null  object         \n",
      " 10  recency      18046 non-null  timedelta64[ns]\n",
      "dtypes: datetime64[ns](1), float64(2), int32(1), int64(2), object(4), timedelta64[ns](1)\n",
      "memory usage: 1.6+ MB\n"
     ]
    }
   ],
   "source": [
    "df_data.info()"
   ]
  },
  {
   "cell_type": "markdown",
   "id": "bbf66312",
   "metadata": {},
   "source": [
    "### checking dtypes"
   ]
  },
  {
   "cell_type": "code",
   "execution_count": 43,
   "id": "5fb6f5f7",
   "metadata": {},
   "outputs": [
    {
     "data": {
      "text/plain": [
       "InvoiceNo                int64\n",
       "StockCode               object\n",
       "Description             object\n",
       "Quantity                 int64\n",
       "UnitPrice              float64\n",
       "CustomerID               int32\n",
       "Country                 object\n",
       "TotalPrice             float64\n",
       "Date            datetime64[ns]\n",
       "Time                    object\n",
       "recency        timedelta64[ns]\n",
       "dtype: object"
      ]
     },
     "execution_count": 43,
     "metadata": {},
     "output_type": "execute_result"
    }
   ],
   "source": [
    "df_data.dtypes"
   ]
  },
  {
   "cell_type": "markdown",
   "id": "687c28fc",
   "metadata": {},
   "source": [
    "### Checking null values"
   ]
  },
  {
   "cell_type": "code",
   "execution_count": 4,
   "id": "b496239c",
   "metadata": {},
   "outputs": [
    {
     "data": {
      "text/plain": [
       "InvoiceNo      0\n",
       "StockCode      0\n",
       "Description    0\n",
       "Quantity       0\n",
       "InvoiceDate    0\n",
       "UnitPrice      0\n",
       "CustomerID     0\n",
       "Country        0\n",
       "TotalPrice     0\n",
       "dtype: int64"
      ]
     },
     "execution_count": 4,
     "metadata": {},
     "output_type": "execute_result"
    }
   ],
   "source": [
    "df_data.isnull().sum()"
   ]
  },
  {
   "cell_type": "markdown",
   "id": "64ebe79e",
   "metadata": {},
   "source": [
    "# Preprocessing steps for cleaning data by \n",
    " ### 1.treating duplciates\n",
    " ### 2.formatting Date columns"
   ]
  },
  {
   "cell_type": "code",
   "execution_count": 5,
   "id": "9ff22dad",
   "metadata": {},
   "outputs": [
    {
     "data": {
      "text/plain": [
       "4298"
      ]
     },
     "execution_count": 5,
     "metadata": {},
     "output_type": "execute_result"
    }
   ],
   "source": [
    "df_data['CustomerID'].nunique()"
   ]
  },
  {
   "cell_type": "code",
   "execution_count": 6,
   "id": "da06ccfc",
   "metadata": {},
   "outputs": [
    {
     "data": {
      "text/plain": [
       "18046"
      ]
     },
     "execution_count": 6,
     "metadata": {},
     "output_type": "execute_result"
    }
   ],
   "source": [
    "df_data['InvoiceNo'].nunique()"
   ]
  },
  {
   "cell_type": "code",
   "execution_count": 7,
   "id": "de488525",
   "metadata": {},
   "outputs": [
    {
     "data": {
      "text/html": [
       "<div>\n",
       "<style scoped>\n",
       "    .dataframe tbody tr th:only-of-type {\n",
       "        vertical-align: middle;\n",
       "    }\n",
       "\n",
       "    .dataframe tbody tr th {\n",
       "        vertical-align: top;\n",
       "    }\n",
       "\n",
       "    .dataframe thead th {\n",
       "        text-align: right;\n",
       "    }\n",
       "</style>\n",
       "<table border=\"1\" class=\"dataframe\">\n",
       "  <thead>\n",
       "    <tr style=\"text-align: right;\">\n",
       "      <th></th>\n",
       "      <th>InvoiceNo</th>\n",
       "      <th>StockCode</th>\n",
       "      <th>Description</th>\n",
       "      <th>Quantity</th>\n",
       "      <th>InvoiceDate</th>\n",
       "      <th>UnitPrice</th>\n",
       "      <th>CustomerID</th>\n",
       "      <th>Country</th>\n",
       "      <th>TotalPrice</th>\n",
       "    </tr>\n",
       "  </thead>\n",
       "  <tbody>\n",
       "    <tr>\n",
       "      <th>0</th>\n",
       "      <td>536365</td>\n",
       "      <td>85123A</td>\n",
       "      <td>white hanging heart t-light holder</td>\n",
       "      <td>6</td>\n",
       "      <td>2010-12-01 08:26:00</td>\n",
       "      <td>2.55</td>\n",
       "      <td>17850.0</td>\n",
       "      <td>United Kingdom</td>\n",
       "      <td>15.30</td>\n",
       "    </tr>\n",
       "    <tr>\n",
       "      <th>1</th>\n",
       "      <td>536365</td>\n",
       "      <td>71053</td>\n",
       "      <td>white metal lantern</td>\n",
       "      <td>6</td>\n",
       "      <td>2010-12-01 08:26:00</td>\n",
       "      <td>3.39</td>\n",
       "      <td>17850.0</td>\n",
       "      <td>United Kingdom</td>\n",
       "      <td>20.34</td>\n",
       "    </tr>\n",
       "    <tr>\n",
       "      <th>2</th>\n",
       "      <td>536365</td>\n",
       "      <td>84406B</td>\n",
       "      <td>cream cupid hearts coat hanger</td>\n",
       "      <td>8</td>\n",
       "      <td>2010-12-01 08:26:00</td>\n",
       "      <td>2.75</td>\n",
       "      <td>17850.0</td>\n",
       "      <td>United Kingdom</td>\n",
       "      <td>22.00</td>\n",
       "    </tr>\n",
       "    <tr>\n",
       "      <th>3</th>\n",
       "      <td>536365</td>\n",
       "      <td>84029G</td>\n",
       "      <td>knitted union flag hot water bottle</td>\n",
       "      <td>6</td>\n",
       "      <td>2010-12-01 08:26:00</td>\n",
       "      <td>3.39</td>\n",
       "      <td>17850.0</td>\n",
       "      <td>United Kingdom</td>\n",
       "      <td>20.34</td>\n",
       "    </tr>\n",
       "    <tr>\n",
       "      <th>4</th>\n",
       "      <td>536365</td>\n",
       "      <td>84029E</td>\n",
       "      <td>red woolly hottie white heart.</td>\n",
       "      <td>6</td>\n",
       "      <td>2010-12-01 08:26:00</td>\n",
       "      <td>3.39</td>\n",
       "      <td>17850.0</td>\n",
       "      <td>United Kingdom</td>\n",
       "      <td>20.34</td>\n",
       "    </tr>\n",
       "  </tbody>\n",
       "</table>\n",
       "</div>"
      ],
      "text/plain": [
       "   InvoiceNo StockCode                          Description  Quantity  \\\n",
       "0     536365    85123A   white hanging heart t-light holder         6   \n",
       "1     536365     71053                  white metal lantern         6   \n",
       "2     536365    84406B       cream cupid hearts coat hanger         8   \n",
       "3     536365    84029G  knitted union flag hot water bottle         6   \n",
       "4     536365    84029E       red woolly hottie white heart.         6   \n",
       "\n",
       "           InvoiceDate  UnitPrice  CustomerID         Country  TotalPrice  \n",
       "0  2010-12-01 08:26:00       2.55     17850.0  United Kingdom       15.30  \n",
       "1  2010-12-01 08:26:00       3.39     17850.0  United Kingdom       20.34  \n",
       "2  2010-12-01 08:26:00       2.75     17850.0  United Kingdom       22.00  \n",
       "3  2010-12-01 08:26:00       3.39     17850.0  United Kingdom       20.34  \n",
       "4  2010-12-01 08:26:00       3.39     17850.0  United Kingdom       20.34  "
      ]
     },
     "execution_count": 7,
     "metadata": {},
     "output_type": "execute_result"
    }
   ],
   "source": [
    "df_data = df_data.drop_duplicates()\n",
    "# Check the updated DataFrame\n",
    "df_data.head()"
   ]
  },
  {
   "cell_type": "code",
   "execution_count": 8,
   "id": "875c49e9",
   "metadata": {},
   "outputs": [
    {
     "data": {
      "text/plain": [
       "(387553, 9)"
      ]
     },
     "execution_count": 8,
     "metadata": {},
     "output_type": "execute_result"
    }
   ],
   "source": [
    "df_data.shape"
   ]
  },
  {
   "cell_type": "code",
   "execution_count": 9,
   "id": "4304b8b1",
   "metadata": {},
   "outputs": [
    {
     "data": {
      "text/html": [
       "<div>\n",
       "<style scoped>\n",
       "    .dataframe tbody tr th:only-of-type {\n",
       "        vertical-align: middle;\n",
       "    }\n",
       "\n",
       "    .dataframe tbody tr th {\n",
       "        vertical-align: top;\n",
       "    }\n",
       "\n",
       "    .dataframe thead th {\n",
       "        text-align: right;\n",
       "    }\n",
       "</style>\n",
       "<table border=\"1\" class=\"dataframe\">\n",
       "  <thead>\n",
       "    <tr style=\"text-align: right;\">\n",
       "      <th></th>\n",
       "      <th>InvoiceNo</th>\n",
       "      <th>StockCode</th>\n",
       "      <th>Description</th>\n",
       "      <th>Quantity</th>\n",
       "      <th>InvoiceDate</th>\n",
       "      <th>UnitPrice</th>\n",
       "      <th>CustomerID</th>\n",
       "      <th>Country</th>\n",
       "      <th>TotalPrice</th>\n",
       "    </tr>\n",
       "  </thead>\n",
       "  <tbody>\n",
       "    <tr>\n",
       "      <th>0</th>\n",
       "      <td>536365</td>\n",
       "      <td>85123A</td>\n",
       "      <td>white hanging heart t-light holder</td>\n",
       "      <td>6</td>\n",
       "      <td>2010-12-01 08:26:00</td>\n",
       "      <td>2.55</td>\n",
       "      <td>17850.0</td>\n",
       "      <td>United Kingdom</td>\n",
       "      <td>15.30</td>\n",
       "    </tr>\n",
       "    <tr>\n",
       "      <th>7</th>\n",
       "      <td>536366</td>\n",
       "      <td>22633</td>\n",
       "      <td>hand warmer union jack</td>\n",
       "      <td>6</td>\n",
       "      <td>2010-12-01 08:28:00</td>\n",
       "      <td>1.85</td>\n",
       "      <td>17850.0</td>\n",
       "      <td>United Kingdom</td>\n",
       "      <td>11.10</td>\n",
       "    </tr>\n",
       "    <tr>\n",
       "      <th>9</th>\n",
       "      <td>536367</td>\n",
       "      <td>84879</td>\n",
       "      <td>assorted colour bird ornament</td>\n",
       "      <td>32</td>\n",
       "      <td>2010-12-01 08:34:00</td>\n",
       "      <td>1.69</td>\n",
       "      <td>13047.0</td>\n",
       "      <td>United Kingdom</td>\n",
       "      <td>54.08</td>\n",
       "    </tr>\n",
       "    <tr>\n",
       "      <th>21</th>\n",
       "      <td>536368</td>\n",
       "      <td>22960</td>\n",
       "      <td>jam making set with jars</td>\n",
       "      <td>6</td>\n",
       "      <td>2010-12-01 08:34:00</td>\n",
       "      <td>4.25</td>\n",
       "      <td>13047.0</td>\n",
       "      <td>United Kingdom</td>\n",
       "      <td>25.50</td>\n",
       "    </tr>\n",
       "    <tr>\n",
       "      <th>25</th>\n",
       "      <td>536369</td>\n",
       "      <td>21756</td>\n",
       "      <td>bath building block word</td>\n",
       "      <td>3</td>\n",
       "      <td>2010-12-01 08:35:00</td>\n",
       "      <td>5.95</td>\n",
       "      <td>13047.0</td>\n",
       "      <td>United Kingdom</td>\n",
       "      <td>17.85</td>\n",
       "    </tr>\n",
       "  </tbody>\n",
       "</table>\n",
       "</div>"
      ],
      "text/plain": [
       "    InvoiceNo StockCode                         Description  Quantity  \\\n",
       "0      536365    85123A  white hanging heart t-light holder         6   \n",
       "7      536366     22633              hand warmer union jack         6   \n",
       "9      536367     84879       assorted colour bird ornament        32   \n",
       "21     536368     22960            jam making set with jars         6   \n",
       "25     536369     21756            bath building block word         3   \n",
       "\n",
       "            InvoiceDate  UnitPrice  CustomerID         Country  TotalPrice  \n",
       "0   2010-12-01 08:26:00       2.55     17850.0  United Kingdom       15.30  \n",
       "7   2010-12-01 08:28:00       1.85     17850.0  United Kingdom       11.10  \n",
       "9   2010-12-01 08:34:00       1.69     13047.0  United Kingdom       54.08  \n",
       "21  2010-12-01 08:34:00       4.25     13047.0  United Kingdom       25.50  \n",
       "25  2010-12-01 08:35:00       5.95     13047.0  United Kingdom       17.85  "
      ]
     },
     "execution_count": 9,
     "metadata": {},
     "output_type": "execute_result"
    }
   ],
   "source": [
    "df_data = df_data.drop_duplicates(subset=['InvoiceNo'])\n",
    "df_data.head()"
   ]
  },
  {
   "cell_type": "code",
   "execution_count": 10,
   "id": "565d03e8",
   "metadata": {},
   "outputs": [
    {
     "data": {
      "text/plain": [
       "(18046, 9)"
      ]
     },
     "execution_count": 10,
     "metadata": {},
     "output_type": "execute_result"
    }
   ],
   "source": [
    "df_data.shape"
   ]
  },
  {
   "cell_type": "code",
   "execution_count": 11,
   "id": "c56325aa",
   "metadata": {},
   "outputs": [
    {
     "data": {
      "text/html": [
       "<div>\n",
       "<style scoped>\n",
       "    .dataframe tbody tr th:only-of-type {\n",
       "        vertical-align: middle;\n",
       "    }\n",
       "\n",
       "    .dataframe tbody tr th {\n",
       "        vertical-align: top;\n",
       "    }\n",
       "\n",
       "    .dataframe thead th {\n",
       "        text-align: right;\n",
       "    }\n",
       "</style>\n",
       "<table border=\"1\" class=\"dataframe\">\n",
       "  <thead>\n",
       "    <tr style=\"text-align: right;\">\n",
       "      <th></th>\n",
       "      <th>InvoiceNo</th>\n",
       "      <th>StockCode</th>\n",
       "      <th>Description</th>\n",
       "      <th>Quantity</th>\n",
       "      <th>InvoiceDate</th>\n",
       "      <th>UnitPrice</th>\n",
       "      <th>CustomerID</th>\n",
       "      <th>Country</th>\n",
       "      <th>TotalPrice</th>\n",
       "    </tr>\n",
       "  </thead>\n",
       "  <tbody>\n",
       "    <tr>\n",
       "      <th>0</th>\n",
       "      <td>536365</td>\n",
       "      <td>85123A</td>\n",
       "      <td>white hanging heart t-light holder</td>\n",
       "      <td>6</td>\n",
       "      <td>2010-12-01 08:26:00</td>\n",
       "      <td>2.55</td>\n",
       "      <td>17850.0</td>\n",
       "      <td>United Kingdom</td>\n",
       "      <td>15.30</td>\n",
       "    </tr>\n",
       "    <tr>\n",
       "      <th>7</th>\n",
       "      <td>536366</td>\n",
       "      <td>22633</td>\n",
       "      <td>hand warmer union jack</td>\n",
       "      <td>6</td>\n",
       "      <td>2010-12-01 08:28:00</td>\n",
       "      <td>1.85</td>\n",
       "      <td>17850.0</td>\n",
       "      <td>United Kingdom</td>\n",
       "      <td>11.10</td>\n",
       "    </tr>\n",
       "    <tr>\n",
       "      <th>9</th>\n",
       "      <td>536367</td>\n",
       "      <td>84879</td>\n",
       "      <td>assorted colour bird ornament</td>\n",
       "      <td>32</td>\n",
       "      <td>2010-12-01 08:34:00</td>\n",
       "      <td>1.69</td>\n",
       "      <td>13047.0</td>\n",
       "      <td>United Kingdom</td>\n",
       "      <td>54.08</td>\n",
       "    </tr>\n",
       "    <tr>\n",
       "      <th>21</th>\n",
       "      <td>536368</td>\n",
       "      <td>22960</td>\n",
       "      <td>jam making set with jars</td>\n",
       "      <td>6</td>\n",
       "      <td>2010-12-01 08:34:00</td>\n",
       "      <td>4.25</td>\n",
       "      <td>13047.0</td>\n",
       "      <td>United Kingdom</td>\n",
       "      <td>25.50</td>\n",
       "    </tr>\n",
       "    <tr>\n",
       "      <th>25</th>\n",
       "      <td>536369</td>\n",
       "      <td>21756</td>\n",
       "      <td>bath building block word</td>\n",
       "      <td>3</td>\n",
       "      <td>2010-12-01 08:35:00</td>\n",
       "      <td>5.95</td>\n",
       "      <td>13047.0</td>\n",
       "      <td>United Kingdom</td>\n",
       "      <td>17.85</td>\n",
       "    </tr>\n",
       "    <tr>\n",
       "      <th>26</th>\n",
       "      <td>536370</td>\n",
       "      <td>22728</td>\n",
       "      <td>alarm clock bakelike pink</td>\n",
       "      <td>24</td>\n",
       "      <td>2010-12-01 08:45:00</td>\n",
       "      <td>3.75</td>\n",
       "      <td>12583.0</td>\n",
       "      <td>France</td>\n",
       "      <td>90.00</td>\n",
       "    </tr>\n",
       "    <tr>\n",
       "      <th>45</th>\n",
       "      <td>536371</td>\n",
       "      <td>22086</td>\n",
       "      <td>paper chain kit 50's christmas</td>\n",
       "      <td>80</td>\n",
       "      <td>2010-12-01 09:00:00</td>\n",
       "      <td>2.55</td>\n",
       "      <td>13748.0</td>\n",
       "      <td>United Kingdom</td>\n",
       "      <td>204.00</td>\n",
       "    </tr>\n",
       "    <tr>\n",
       "      <th>46</th>\n",
       "      <td>536372</td>\n",
       "      <td>22632</td>\n",
       "      <td>hand warmer red polka dot</td>\n",
       "      <td>6</td>\n",
       "      <td>2010-12-01 09:01:00</td>\n",
       "      <td>1.85</td>\n",
       "      <td>17850.0</td>\n",
       "      <td>United Kingdom</td>\n",
       "      <td>11.10</td>\n",
       "    </tr>\n",
       "    <tr>\n",
       "      <th>48</th>\n",
       "      <td>536373</td>\n",
       "      <td>85123A</td>\n",
       "      <td>white hanging heart t-light holder</td>\n",
       "      <td>6</td>\n",
       "      <td>2010-12-01 09:02:00</td>\n",
       "      <td>2.55</td>\n",
       "      <td>17850.0</td>\n",
       "      <td>United Kingdom</td>\n",
       "      <td>15.30</td>\n",
       "    </tr>\n",
       "    <tr>\n",
       "      <th>64</th>\n",
       "      <td>536374</td>\n",
       "      <td>21258</td>\n",
       "      <td>victorian sewing box large</td>\n",
       "      <td>32</td>\n",
       "      <td>2010-12-01 09:09:00</td>\n",
       "      <td>10.95</td>\n",
       "      <td>15100.0</td>\n",
       "      <td>United Kingdom</td>\n",
       "      <td>350.40</td>\n",
       "    </tr>\n",
       "    <tr>\n",
       "      <th>65</th>\n",
       "      <td>536375</td>\n",
       "      <td>85123A</td>\n",
       "      <td>white hanging heart t-light holder</td>\n",
       "      <td>6</td>\n",
       "      <td>2010-12-01 09:32:00</td>\n",
       "      <td>2.55</td>\n",
       "      <td>17850.0</td>\n",
       "      <td>United Kingdom</td>\n",
       "      <td>15.30</td>\n",
       "    </tr>\n",
       "    <tr>\n",
       "      <th>81</th>\n",
       "      <td>536376</td>\n",
       "      <td>22114</td>\n",
       "      <td>hot water bottle tea and sympathy</td>\n",
       "      <td>48</td>\n",
       "      <td>2010-12-01 09:32:00</td>\n",
       "      <td>3.45</td>\n",
       "      <td>15291.0</td>\n",
       "      <td>United Kingdom</td>\n",
       "      <td>165.60</td>\n",
       "    </tr>\n",
       "    <tr>\n",
       "      <th>83</th>\n",
       "      <td>536377</td>\n",
       "      <td>22632</td>\n",
       "      <td>hand warmer red polka dot</td>\n",
       "      <td>6</td>\n",
       "      <td>2010-12-01 09:34:00</td>\n",
       "      <td>1.85</td>\n",
       "      <td>17850.0</td>\n",
       "      <td>United Kingdom</td>\n",
       "      <td>11.10</td>\n",
       "    </tr>\n",
       "    <tr>\n",
       "      <th>85</th>\n",
       "      <td>536378</td>\n",
       "      <td>22386</td>\n",
       "      <td>jumbo bag pink polkadot</td>\n",
       "      <td>10</td>\n",
       "      <td>2010-12-01 09:37:00</td>\n",
       "      <td>1.95</td>\n",
       "      <td>14688.0</td>\n",
       "      <td>United Kingdom</td>\n",
       "      <td>19.50</td>\n",
       "    </tr>\n",
       "    <tr>\n",
       "      <th>104</th>\n",
       "      <td>536380</td>\n",
       "      <td>22961</td>\n",
       "      <td>jam making set printed</td>\n",
       "      <td>24</td>\n",
       "      <td>2010-12-01 09:41:00</td>\n",
       "      <td>1.45</td>\n",
       "      <td>17809.0</td>\n",
       "      <td>United Kingdom</td>\n",
       "      <td>34.80</td>\n",
       "    </tr>\n",
       "    <tr>\n",
       "      <th>105</th>\n",
       "      <td>536381</td>\n",
       "      <td>22139</td>\n",
       "      <td>retrospot tea set ceramic 11 pc</td>\n",
       "      <td>23</td>\n",
       "      <td>2010-12-01 09:41:00</td>\n",
       "      <td>4.25</td>\n",
       "      <td>15311.0</td>\n",
       "      <td>United Kingdom</td>\n",
       "      <td>97.75</td>\n",
       "    </tr>\n",
       "    <tr>\n",
       "      <th>140</th>\n",
       "      <td>536382</td>\n",
       "      <td>10002</td>\n",
       "      <td>inflatable political globe</td>\n",
       "      <td>12</td>\n",
       "      <td>2010-12-01 09:45:00</td>\n",
       "      <td>0.85</td>\n",
       "      <td>16098.0</td>\n",
       "      <td>United Kingdom</td>\n",
       "      <td>10.20</td>\n",
       "    </tr>\n",
       "    <tr>\n",
       "      <th>152</th>\n",
       "      <td>536384</td>\n",
       "      <td>82484</td>\n",
       "      <td>wood black board ant white finish</td>\n",
       "      <td>3</td>\n",
       "      <td>2010-12-01 09:53:00</td>\n",
       "      <td>6.45</td>\n",
       "      <td>18074.0</td>\n",
       "      <td>United Kingdom</td>\n",
       "      <td>19.35</td>\n",
       "    </tr>\n",
       "    <tr>\n",
       "      <th>165</th>\n",
       "      <td>536385</td>\n",
       "      <td>22783</td>\n",
       "      <td>set 3 wicker oval baskets w lids</td>\n",
       "      <td>1</td>\n",
       "      <td>2010-12-01 09:56:00</td>\n",
       "      <td>19.95</td>\n",
       "      <td>17420.0</td>\n",
       "      <td>United Kingdom</td>\n",
       "      <td>19.95</td>\n",
       "    </tr>\n",
       "    <tr>\n",
       "      <th>172</th>\n",
       "      <td>536386</td>\n",
       "      <td>84880</td>\n",
       "      <td>white wire egg holder</td>\n",
       "      <td>36</td>\n",
       "      <td>2010-12-01 09:57:00</td>\n",
       "      <td>4.95</td>\n",
       "      <td>16029.0</td>\n",
       "      <td>United Kingdom</td>\n",
       "      <td>178.20</td>\n",
       "    </tr>\n",
       "  </tbody>\n",
       "</table>\n",
       "</div>"
      ],
      "text/plain": [
       "     InvoiceNo StockCode                         Description  Quantity  \\\n",
       "0       536365    85123A  white hanging heart t-light holder         6   \n",
       "7       536366     22633              hand warmer union jack         6   \n",
       "9       536367     84879       assorted colour bird ornament        32   \n",
       "21      536368     22960            jam making set with jars         6   \n",
       "25      536369     21756            bath building block word         3   \n",
       "26      536370     22728           alarm clock bakelike pink        24   \n",
       "45      536371     22086     paper chain kit 50's christmas         80   \n",
       "46      536372     22632           hand warmer red polka dot         6   \n",
       "48      536373    85123A  white hanging heart t-light holder         6   \n",
       "64      536374     21258          victorian sewing box large        32   \n",
       "65      536375    85123A  white hanging heart t-light holder         6   \n",
       "81      536376     22114   hot water bottle tea and sympathy        48   \n",
       "83      536377     22632           hand warmer red polka dot         6   \n",
       "85      536378     22386             jumbo bag pink polkadot        10   \n",
       "104     536380     22961              jam making set printed        24   \n",
       "105     536381     22139    retrospot tea set ceramic 11 pc         23   \n",
       "140     536382     10002         inflatable political globe         12   \n",
       "152     536384     82484   wood black board ant white finish         3   \n",
       "165     536385     22783    set 3 wicker oval baskets w lids         1   \n",
       "172     536386     84880               white wire egg holder        36   \n",
       "\n",
       "             InvoiceDate  UnitPrice  CustomerID         Country  TotalPrice  \n",
       "0    2010-12-01 08:26:00       2.55     17850.0  United Kingdom       15.30  \n",
       "7    2010-12-01 08:28:00       1.85     17850.0  United Kingdom       11.10  \n",
       "9    2010-12-01 08:34:00       1.69     13047.0  United Kingdom       54.08  \n",
       "21   2010-12-01 08:34:00       4.25     13047.0  United Kingdom       25.50  \n",
       "25   2010-12-01 08:35:00       5.95     13047.0  United Kingdom       17.85  \n",
       "26   2010-12-01 08:45:00       3.75     12583.0          France       90.00  \n",
       "45   2010-12-01 09:00:00       2.55     13748.0  United Kingdom      204.00  \n",
       "46   2010-12-01 09:01:00       1.85     17850.0  United Kingdom       11.10  \n",
       "48   2010-12-01 09:02:00       2.55     17850.0  United Kingdom       15.30  \n",
       "64   2010-12-01 09:09:00      10.95     15100.0  United Kingdom      350.40  \n",
       "65   2010-12-01 09:32:00       2.55     17850.0  United Kingdom       15.30  \n",
       "81   2010-12-01 09:32:00       3.45     15291.0  United Kingdom      165.60  \n",
       "83   2010-12-01 09:34:00       1.85     17850.0  United Kingdom       11.10  \n",
       "85   2010-12-01 09:37:00       1.95     14688.0  United Kingdom       19.50  \n",
       "104  2010-12-01 09:41:00       1.45     17809.0  United Kingdom       34.80  \n",
       "105  2010-12-01 09:41:00       4.25     15311.0  United Kingdom       97.75  \n",
       "140  2010-12-01 09:45:00       0.85     16098.0  United Kingdom       10.20  \n",
       "152  2010-12-01 09:53:00       6.45     18074.0  United Kingdom       19.35  \n",
       "165  2010-12-01 09:56:00      19.95     17420.0  United Kingdom       19.95  \n",
       "172  2010-12-01 09:57:00       4.95     16029.0  United Kingdom      178.20  "
      ]
     },
     "execution_count": 11,
     "metadata": {},
     "output_type": "execute_result"
    }
   ],
   "source": [
    "df_data.head(20)"
   ]
  },
  {
   "cell_type": "code",
   "execution_count": 12,
   "id": "115c3526",
   "metadata": {},
   "outputs": [
    {
     "data": {
      "text/plain": [
       "array(['2010-12-01 08:26:00', '2010-12-01 08:28:00',\n",
       "       '2010-12-01 08:34:00', ..., '2011-12-09 12:31:00',\n",
       "       '2011-12-09 12:49:00', '2011-12-09 12:50:00'], dtype=object)"
      ]
     },
     "execution_count": 12,
     "metadata": {},
     "output_type": "execute_result"
    }
   ],
   "source": [
    "df_data['InvoiceDate'].unique()"
   ]
  },
  {
   "cell_type": "code",
   "execution_count": 13,
   "id": "562281e2",
   "metadata": {},
   "outputs": [
    {
     "data": {
      "text/plain": [
       "InvoiceDate\n",
       "2011-05-26 14:09:00    4\n",
       "2011-10-21 14:41:00    4\n",
       "2011-09-19 14:43:00    3\n",
       "2011-10-10 14:37:00    3\n",
       "2011-11-23 13:27:00    3\n",
       "                      ..\n",
       "2011-05-09 14:10:00    1\n",
       "2011-05-09 14:22:00    1\n",
       "2011-05-09 14:54:00    1\n",
       "2011-05-09 15:12:00    1\n",
       "2011-12-09 12:50:00    1\n",
       "Name: count, Length: 16834, dtype: int64"
      ]
     },
     "execution_count": 13,
     "metadata": {},
     "output_type": "execute_result"
    }
   ],
   "source": [
    "df_data['InvoiceDate'].value_counts()"
   ]
  },
  {
   "cell_type": "code",
   "execution_count": 14,
   "id": "d34fd80a",
   "metadata": {},
   "outputs": [
    {
     "data": {
      "text/plain": [
       "0     [2010-12-01, 08:26:00]\n",
       "7     [2010-12-01, 08:28:00]\n",
       "9     [2010-12-01, 08:34:00]\n",
       "21    [2010-12-01, 08:34:00]\n",
       "25    [2010-12-01, 08:35:00]\n",
       "Name: InvoiceDate, dtype: object"
      ]
     },
     "execution_count": 14,
     "metadata": {},
     "output_type": "execute_result"
    }
   ],
   "source": [
    "date_time_split=df_data['InvoiceDate'].str.split(' ')\n",
    "date_time_split.head()"
   ]
  },
  {
   "cell_type": "code",
   "execution_count": 15,
   "id": "8ce3fa2b",
   "metadata": {},
   "outputs": [],
   "source": [
    "df_data['Date']=[i[0] for i in df_data['InvoiceDate'].str.split(' ')]"
   ]
  },
  {
   "cell_type": "code",
   "execution_count": 16,
   "id": "764f187b",
   "metadata": {},
   "outputs": [
    {
     "data": {
      "text/html": [
       "<div>\n",
       "<style scoped>\n",
       "    .dataframe tbody tr th:only-of-type {\n",
       "        vertical-align: middle;\n",
       "    }\n",
       "\n",
       "    .dataframe tbody tr th {\n",
       "        vertical-align: top;\n",
       "    }\n",
       "\n",
       "    .dataframe thead th {\n",
       "        text-align: right;\n",
       "    }\n",
       "</style>\n",
       "<table border=\"1\" class=\"dataframe\">\n",
       "  <thead>\n",
       "    <tr style=\"text-align: right;\">\n",
       "      <th></th>\n",
       "      <th>InvoiceNo</th>\n",
       "      <th>StockCode</th>\n",
       "      <th>Description</th>\n",
       "      <th>Quantity</th>\n",
       "      <th>InvoiceDate</th>\n",
       "      <th>UnitPrice</th>\n",
       "      <th>CustomerID</th>\n",
       "      <th>Country</th>\n",
       "      <th>TotalPrice</th>\n",
       "      <th>Date</th>\n",
       "    </tr>\n",
       "  </thead>\n",
       "  <tbody>\n",
       "    <tr>\n",
       "      <th>0</th>\n",
       "      <td>536365</td>\n",
       "      <td>85123A</td>\n",
       "      <td>white hanging heart t-light holder</td>\n",
       "      <td>6</td>\n",
       "      <td>2010-12-01 08:26:00</td>\n",
       "      <td>2.55</td>\n",
       "      <td>17850.0</td>\n",
       "      <td>United Kingdom</td>\n",
       "      <td>15.30</td>\n",
       "      <td>2010-12-01</td>\n",
       "    </tr>\n",
       "    <tr>\n",
       "      <th>7</th>\n",
       "      <td>536366</td>\n",
       "      <td>22633</td>\n",
       "      <td>hand warmer union jack</td>\n",
       "      <td>6</td>\n",
       "      <td>2010-12-01 08:28:00</td>\n",
       "      <td>1.85</td>\n",
       "      <td>17850.0</td>\n",
       "      <td>United Kingdom</td>\n",
       "      <td>11.10</td>\n",
       "      <td>2010-12-01</td>\n",
       "    </tr>\n",
       "    <tr>\n",
       "      <th>9</th>\n",
       "      <td>536367</td>\n",
       "      <td>84879</td>\n",
       "      <td>assorted colour bird ornament</td>\n",
       "      <td>32</td>\n",
       "      <td>2010-12-01 08:34:00</td>\n",
       "      <td>1.69</td>\n",
       "      <td>13047.0</td>\n",
       "      <td>United Kingdom</td>\n",
       "      <td>54.08</td>\n",
       "      <td>2010-12-01</td>\n",
       "    </tr>\n",
       "    <tr>\n",
       "      <th>21</th>\n",
       "      <td>536368</td>\n",
       "      <td>22960</td>\n",
       "      <td>jam making set with jars</td>\n",
       "      <td>6</td>\n",
       "      <td>2010-12-01 08:34:00</td>\n",
       "      <td>4.25</td>\n",
       "      <td>13047.0</td>\n",
       "      <td>United Kingdom</td>\n",
       "      <td>25.50</td>\n",
       "      <td>2010-12-01</td>\n",
       "    </tr>\n",
       "    <tr>\n",
       "      <th>25</th>\n",
       "      <td>536369</td>\n",
       "      <td>21756</td>\n",
       "      <td>bath building block word</td>\n",
       "      <td>3</td>\n",
       "      <td>2010-12-01 08:35:00</td>\n",
       "      <td>5.95</td>\n",
       "      <td>13047.0</td>\n",
       "      <td>United Kingdom</td>\n",
       "      <td>17.85</td>\n",
       "      <td>2010-12-01</td>\n",
       "    </tr>\n",
       "  </tbody>\n",
       "</table>\n",
       "</div>"
      ],
      "text/plain": [
       "    InvoiceNo StockCode                         Description  Quantity  \\\n",
       "0      536365    85123A  white hanging heart t-light holder         6   \n",
       "7      536366     22633              hand warmer union jack         6   \n",
       "9      536367     84879       assorted colour bird ornament        32   \n",
       "21     536368     22960            jam making set with jars         6   \n",
       "25     536369     21756            bath building block word         3   \n",
       "\n",
       "            InvoiceDate  UnitPrice  CustomerID         Country  TotalPrice  \\\n",
       "0   2010-12-01 08:26:00       2.55     17850.0  United Kingdom       15.30   \n",
       "7   2010-12-01 08:28:00       1.85     17850.0  United Kingdom       11.10   \n",
       "9   2010-12-01 08:34:00       1.69     13047.0  United Kingdom       54.08   \n",
       "21  2010-12-01 08:34:00       4.25     13047.0  United Kingdom       25.50   \n",
       "25  2010-12-01 08:35:00       5.95     13047.0  United Kingdom       17.85   \n",
       "\n",
       "          Date  \n",
       "0   2010-12-01  \n",
       "7   2010-12-01  \n",
       "9   2010-12-01  \n",
       "21  2010-12-01  \n",
       "25  2010-12-01  "
      ]
     },
     "execution_count": 16,
     "metadata": {},
     "output_type": "execute_result"
    }
   ],
   "source": [
    "df_data.head()"
   ]
  },
  {
   "cell_type": "code",
   "execution_count": 17,
   "id": "b32d6385",
   "metadata": {},
   "outputs": [],
   "source": [
    "df_data['Time']=[i[1] for i in df_data['InvoiceDate'].str.split(' ')]"
   ]
  },
  {
   "cell_type": "code",
   "execution_count": 18,
   "id": "1d2ad639",
   "metadata": {},
   "outputs": [
    {
     "data": {
      "text/html": [
       "<div>\n",
       "<style scoped>\n",
       "    .dataframe tbody tr th:only-of-type {\n",
       "        vertical-align: middle;\n",
       "    }\n",
       "\n",
       "    .dataframe tbody tr th {\n",
       "        vertical-align: top;\n",
       "    }\n",
       "\n",
       "    .dataframe thead th {\n",
       "        text-align: right;\n",
       "    }\n",
       "</style>\n",
       "<table border=\"1\" class=\"dataframe\">\n",
       "  <thead>\n",
       "    <tr style=\"text-align: right;\">\n",
       "      <th></th>\n",
       "      <th>InvoiceNo</th>\n",
       "      <th>StockCode</th>\n",
       "      <th>Description</th>\n",
       "      <th>Quantity</th>\n",
       "      <th>InvoiceDate</th>\n",
       "      <th>UnitPrice</th>\n",
       "      <th>CustomerID</th>\n",
       "      <th>Country</th>\n",
       "      <th>TotalPrice</th>\n",
       "      <th>Date</th>\n",
       "      <th>Time</th>\n",
       "    </tr>\n",
       "  </thead>\n",
       "  <tbody>\n",
       "    <tr>\n",
       "      <th>0</th>\n",
       "      <td>536365</td>\n",
       "      <td>85123A</td>\n",
       "      <td>white hanging heart t-light holder</td>\n",
       "      <td>6</td>\n",
       "      <td>2010-12-01 08:26:00</td>\n",
       "      <td>2.55</td>\n",
       "      <td>17850.0</td>\n",
       "      <td>United Kingdom</td>\n",
       "      <td>15.30</td>\n",
       "      <td>2010-12-01</td>\n",
       "      <td>08:26:00</td>\n",
       "    </tr>\n",
       "    <tr>\n",
       "      <th>7</th>\n",
       "      <td>536366</td>\n",
       "      <td>22633</td>\n",
       "      <td>hand warmer union jack</td>\n",
       "      <td>6</td>\n",
       "      <td>2010-12-01 08:28:00</td>\n",
       "      <td>1.85</td>\n",
       "      <td>17850.0</td>\n",
       "      <td>United Kingdom</td>\n",
       "      <td>11.10</td>\n",
       "      <td>2010-12-01</td>\n",
       "      <td>08:28:00</td>\n",
       "    </tr>\n",
       "    <tr>\n",
       "      <th>9</th>\n",
       "      <td>536367</td>\n",
       "      <td>84879</td>\n",
       "      <td>assorted colour bird ornament</td>\n",
       "      <td>32</td>\n",
       "      <td>2010-12-01 08:34:00</td>\n",
       "      <td>1.69</td>\n",
       "      <td>13047.0</td>\n",
       "      <td>United Kingdom</td>\n",
       "      <td>54.08</td>\n",
       "      <td>2010-12-01</td>\n",
       "      <td>08:34:00</td>\n",
       "    </tr>\n",
       "    <tr>\n",
       "      <th>21</th>\n",
       "      <td>536368</td>\n",
       "      <td>22960</td>\n",
       "      <td>jam making set with jars</td>\n",
       "      <td>6</td>\n",
       "      <td>2010-12-01 08:34:00</td>\n",
       "      <td>4.25</td>\n",
       "      <td>13047.0</td>\n",
       "      <td>United Kingdom</td>\n",
       "      <td>25.50</td>\n",
       "      <td>2010-12-01</td>\n",
       "      <td>08:34:00</td>\n",
       "    </tr>\n",
       "    <tr>\n",
       "      <th>25</th>\n",
       "      <td>536369</td>\n",
       "      <td>21756</td>\n",
       "      <td>bath building block word</td>\n",
       "      <td>3</td>\n",
       "      <td>2010-12-01 08:35:00</td>\n",
       "      <td>5.95</td>\n",
       "      <td>13047.0</td>\n",
       "      <td>United Kingdom</td>\n",
       "      <td>17.85</td>\n",
       "      <td>2010-12-01</td>\n",
       "      <td>08:35:00</td>\n",
       "    </tr>\n",
       "  </tbody>\n",
       "</table>\n",
       "</div>"
      ],
      "text/plain": [
       "    InvoiceNo StockCode                         Description  Quantity  \\\n",
       "0      536365    85123A  white hanging heart t-light holder         6   \n",
       "7      536366     22633              hand warmer union jack         6   \n",
       "9      536367     84879       assorted colour bird ornament        32   \n",
       "21     536368     22960            jam making set with jars         6   \n",
       "25     536369     21756            bath building block word         3   \n",
       "\n",
       "            InvoiceDate  UnitPrice  CustomerID         Country  TotalPrice  \\\n",
       "0   2010-12-01 08:26:00       2.55     17850.0  United Kingdom       15.30   \n",
       "7   2010-12-01 08:28:00       1.85     17850.0  United Kingdom       11.10   \n",
       "9   2010-12-01 08:34:00       1.69     13047.0  United Kingdom       54.08   \n",
       "21  2010-12-01 08:34:00       4.25     13047.0  United Kingdom       25.50   \n",
       "25  2010-12-01 08:35:00       5.95     13047.0  United Kingdom       17.85   \n",
       "\n",
       "          Date      Time  \n",
       "0   2010-12-01  08:26:00  \n",
       "7   2010-12-01  08:28:00  \n",
       "9   2010-12-01  08:34:00  \n",
       "21  2010-12-01  08:34:00  \n",
       "25  2010-12-01  08:35:00  "
      ]
     },
     "execution_count": 18,
     "metadata": {},
     "output_type": "execute_result"
    }
   ],
   "source": [
    "df_data.head()"
   ]
  },
  {
   "cell_type": "code",
   "execution_count": 19,
   "id": "ca4e0350",
   "metadata": {},
   "outputs": [
    {
     "name": "stdout",
     "output_type": "stream",
     "text": [
      "    InvoiceNo StockCode                         Description  Quantity  \\\n",
      "0      536365    85123A  white hanging heart t-light holder         6   \n",
      "7      536366     22633              hand warmer union jack         6   \n",
      "9      536367     84879       assorted colour bird ornament        32   \n",
      "21     536368     22960            jam making set with jars         6   \n",
      "25     536369     21756            bath building block word         3   \n",
      "\n",
      "    UnitPrice  CustomerID         Country  TotalPrice        Date      Time  \n",
      "0        2.55     17850.0  United Kingdom       15.30  2010-12-01  08:26:00  \n",
      "7        1.85     17850.0  United Kingdom       11.10  2010-12-01  08:28:00  \n",
      "9        1.69     13047.0  United Kingdom       54.08  2010-12-01  08:34:00  \n",
      "21       4.25     13047.0  United Kingdom       25.50  2010-12-01  08:34:00  \n",
      "25       5.95     13047.0  United Kingdom       17.85  2010-12-01  08:35:00  \n"
     ]
    }
   ],
   "source": [
    "df_data.drop(columns=['InvoiceDate'], inplace=True)\n",
    "print(df_data.head())"
   ]
  },
  {
   "cell_type": "code",
   "execution_count": 20,
   "id": "877983da",
   "metadata": {},
   "outputs": [],
   "source": [
    "from datetime import datetime \n",
    "df_data['Date'] = pd.to_datetime(df_data['Date'])"
   ]
  },
  {
   "cell_type": "code",
   "execution_count": 21,
   "id": "6dfd5f30",
   "metadata": {},
   "outputs": [
    {
     "data": {
      "text/plain": [
       "InvoiceNo               int64\n",
       "StockCode              object\n",
       "Description            object\n",
       "Quantity                int64\n",
       "UnitPrice             float64\n",
       "CustomerID            float64\n",
       "Country                object\n",
       "TotalPrice            float64\n",
       "Date           datetime64[ns]\n",
       "Time                   object\n",
       "dtype: object"
      ]
     },
     "execution_count": 21,
     "metadata": {},
     "output_type": "execute_result"
    }
   ],
   "source": [
    "df_data.dtypes"
   ]
  },
  {
   "cell_type": "code",
   "execution_count": 22,
   "id": "10ec11f9",
   "metadata": {},
   "outputs": [],
   "source": [
    "df_data['CustomerID'] = df_data['CustomerID'].astype(int)"
   ]
  },
  {
   "cell_type": "code",
   "execution_count": 23,
   "id": "f3425953",
   "metadata": {},
   "outputs": [
    {
     "data": {
      "text/html": [
       "<div>\n",
       "<style scoped>\n",
       "    .dataframe tbody tr th:only-of-type {\n",
       "        vertical-align: middle;\n",
       "    }\n",
       "\n",
       "    .dataframe tbody tr th {\n",
       "        vertical-align: top;\n",
       "    }\n",
       "\n",
       "    .dataframe thead th {\n",
       "        text-align: right;\n",
       "    }\n",
       "</style>\n",
       "<table border=\"1\" class=\"dataframe\">\n",
       "  <thead>\n",
       "    <tr style=\"text-align: right;\">\n",
       "      <th></th>\n",
       "      <th>InvoiceNo</th>\n",
       "      <th>StockCode</th>\n",
       "      <th>Description</th>\n",
       "      <th>Quantity</th>\n",
       "      <th>UnitPrice</th>\n",
       "      <th>CustomerID</th>\n",
       "      <th>Country</th>\n",
       "      <th>TotalPrice</th>\n",
       "      <th>Date</th>\n",
       "      <th>Time</th>\n",
       "    </tr>\n",
       "  </thead>\n",
       "  <tbody>\n",
       "    <tr>\n",
       "      <th>0</th>\n",
       "      <td>536365</td>\n",
       "      <td>85123A</td>\n",
       "      <td>white hanging heart t-light holder</td>\n",
       "      <td>6</td>\n",
       "      <td>2.55</td>\n",
       "      <td>17850</td>\n",
       "      <td>United Kingdom</td>\n",
       "      <td>15.30</td>\n",
       "      <td>2010-12-01</td>\n",
       "      <td>08:26:00</td>\n",
       "    </tr>\n",
       "    <tr>\n",
       "      <th>7</th>\n",
       "      <td>536366</td>\n",
       "      <td>22633</td>\n",
       "      <td>hand warmer union jack</td>\n",
       "      <td>6</td>\n",
       "      <td>1.85</td>\n",
       "      <td>17850</td>\n",
       "      <td>United Kingdom</td>\n",
       "      <td>11.10</td>\n",
       "      <td>2010-12-01</td>\n",
       "      <td>08:28:00</td>\n",
       "    </tr>\n",
       "    <tr>\n",
       "      <th>9</th>\n",
       "      <td>536367</td>\n",
       "      <td>84879</td>\n",
       "      <td>assorted colour bird ornament</td>\n",
       "      <td>32</td>\n",
       "      <td>1.69</td>\n",
       "      <td>13047</td>\n",
       "      <td>United Kingdom</td>\n",
       "      <td>54.08</td>\n",
       "      <td>2010-12-01</td>\n",
       "      <td>08:34:00</td>\n",
       "    </tr>\n",
       "    <tr>\n",
       "      <th>21</th>\n",
       "      <td>536368</td>\n",
       "      <td>22960</td>\n",
       "      <td>jam making set with jars</td>\n",
       "      <td>6</td>\n",
       "      <td>4.25</td>\n",
       "      <td>13047</td>\n",
       "      <td>United Kingdom</td>\n",
       "      <td>25.50</td>\n",
       "      <td>2010-12-01</td>\n",
       "      <td>08:34:00</td>\n",
       "    </tr>\n",
       "    <tr>\n",
       "      <th>25</th>\n",
       "      <td>536369</td>\n",
       "      <td>21756</td>\n",
       "      <td>bath building block word</td>\n",
       "      <td>3</td>\n",
       "      <td>5.95</td>\n",
       "      <td>13047</td>\n",
       "      <td>United Kingdom</td>\n",
       "      <td>17.85</td>\n",
       "      <td>2010-12-01</td>\n",
       "      <td>08:35:00</td>\n",
       "    </tr>\n",
       "  </tbody>\n",
       "</table>\n",
       "</div>"
      ],
      "text/plain": [
       "    InvoiceNo StockCode                         Description  Quantity  \\\n",
       "0      536365    85123A  white hanging heart t-light holder         6   \n",
       "7      536366     22633              hand warmer union jack         6   \n",
       "9      536367     84879       assorted colour bird ornament        32   \n",
       "21     536368     22960            jam making set with jars         6   \n",
       "25     536369     21756            bath building block word         3   \n",
       "\n",
       "    UnitPrice  CustomerID         Country  TotalPrice       Date      Time  \n",
       "0        2.55       17850  United Kingdom       15.30 2010-12-01  08:26:00  \n",
       "7        1.85       17850  United Kingdom       11.10 2010-12-01  08:28:00  \n",
       "9        1.69       13047  United Kingdom       54.08 2010-12-01  08:34:00  \n",
       "21       4.25       13047  United Kingdom       25.50 2010-12-01  08:34:00  \n",
       "25       5.95       13047  United Kingdom       17.85 2010-12-01  08:35:00  "
      ]
     },
     "execution_count": 23,
     "metadata": {},
     "output_type": "execute_result"
    }
   ],
   "source": [
    "df_data.head()"
   ]
  },
  {
   "cell_type": "markdown",
   "id": "9f7cae77",
   "metadata": {},
   "source": [
    "### Caluculating Recency"
   ]
  },
  {
   "cell_type": "code",
   "execution_count": 24,
   "id": "e15ce7ea",
   "metadata": {},
   "outputs": [],
   "source": [
    "df_data['recency']=[datetime.today().date()-i.date() for i in df_data['Date']]"
   ]
  },
  {
   "cell_type": "code",
   "execution_count": 25,
   "id": "70ae3a90",
   "metadata": {},
   "outputs": [
    {
     "data": {
      "text/plain": [
       "(4298, 2)"
      ]
     },
     "execution_count": 25,
     "metadata": {},
     "output_type": "execute_result"
    }
   ],
   "source": [
    "df_recency=df_data.groupby(by=['CustomerID'],sort=True)['recency'].min().reset_index()\n",
    "df_recency.rename(columns={'recency':'recent'},inplace = True)\n",
    "df_recency.shape"
   ]
  },
  {
   "cell_type": "code",
   "execution_count": 26,
   "id": "55a40301",
   "metadata": {},
   "outputs": [
    {
     "data": {
      "text/html": [
       "<div>\n",
       "<style scoped>\n",
       "    .dataframe tbody tr th:only-of-type {\n",
       "        vertical-align: middle;\n",
       "    }\n",
       "\n",
       "    .dataframe tbody tr th {\n",
       "        vertical-align: top;\n",
       "    }\n",
       "\n",
       "    .dataframe thead th {\n",
       "        text-align: right;\n",
       "    }\n",
       "</style>\n",
       "<table border=\"1\" class=\"dataframe\">\n",
       "  <thead>\n",
       "    <tr style=\"text-align: right;\">\n",
       "      <th></th>\n",
       "      <th>CustomerID</th>\n",
       "      <th>recent</th>\n",
       "    </tr>\n",
       "  </thead>\n",
       "  <tbody>\n",
       "    <tr>\n",
       "      <th>0</th>\n",
       "      <td>12347</td>\n",
       "      <td>4496 days</td>\n",
       "    </tr>\n",
       "    <tr>\n",
       "      <th>1</th>\n",
       "      <td>12348</td>\n",
       "      <td>4569 days</td>\n",
       "    </tr>\n",
       "    <tr>\n",
       "      <th>2</th>\n",
       "      <td>12349</td>\n",
       "      <td>4512 days</td>\n",
       "    </tr>\n",
       "    <tr>\n",
       "      <th>3</th>\n",
       "      <td>12350</td>\n",
       "      <td>4804 days</td>\n",
       "    </tr>\n",
       "    <tr>\n",
       "      <th>4</th>\n",
       "      <td>12352</td>\n",
       "      <td>4530 days</td>\n",
       "    </tr>\n",
       "  </tbody>\n",
       "</table>\n",
       "</div>"
      ],
      "text/plain": [
       "   CustomerID    recent\n",
       "0       12347 4496 days\n",
       "1       12348 4569 days\n",
       "2       12349 4512 days\n",
       "3       12350 4804 days\n",
       "4       12352 4530 days"
      ]
     },
     "execution_count": 26,
     "metadata": {},
     "output_type": "execute_result"
    }
   ],
   "source": [
    "df_recency.head()"
   ]
  },
  {
   "cell_type": "markdown",
   "id": "43af9401",
   "metadata": {},
   "source": [
    "### caluculating Freqency"
   ]
  },
  {
   "cell_type": "code",
   "execution_count": 27,
   "id": "a057d203",
   "metadata": {},
   "outputs": [
    {
     "data": {
      "text/html": [
       "<div>\n",
       "<style scoped>\n",
       "    .dataframe tbody tr th:only-of-type {\n",
       "        vertical-align: middle;\n",
       "    }\n",
       "\n",
       "    .dataframe tbody tr th {\n",
       "        vertical-align: top;\n",
       "    }\n",
       "\n",
       "    .dataframe thead th {\n",
       "        text-align: right;\n",
       "    }\n",
       "</style>\n",
       "<table border=\"1\" class=\"dataframe\">\n",
       "  <thead>\n",
       "    <tr style=\"text-align: right;\">\n",
       "      <th></th>\n",
       "      <th>CustomerID</th>\n",
       "      <th>Frequency</th>\n",
       "    </tr>\n",
       "  </thead>\n",
       "  <tbody>\n",
       "    <tr>\n",
       "      <th>0</th>\n",
       "      <td>12347</td>\n",
       "      <td>7</td>\n",
       "    </tr>\n",
       "    <tr>\n",
       "      <th>1</th>\n",
       "      <td>12348</td>\n",
       "      <td>4</td>\n",
       "    </tr>\n",
       "    <tr>\n",
       "      <th>2</th>\n",
       "      <td>12349</td>\n",
       "      <td>1</td>\n",
       "    </tr>\n",
       "    <tr>\n",
       "      <th>3</th>\n",
       "      <td>12350</td>\n",
       "      <td>1</td>\n",
       "    </tr>\n",
       "    <tr>\n",
       "      <th>4</th>\n",
       "      <td>12352</td>\n",
       "      <td>7</td>\n",
       "    </tr>\n",
       "    <tr>\n",
       "      <th>...</th>\n",
       "      <td>...</td>\n",
       "      <td>...</td>\n",
       "    </tr>\n",
       "    <tr>\n",
       "      <th>4293</th>\n",
       "      <td>18280</td>\n",
       "      <td>1</td>\n",
       "    </tr>\n",
       "    <tr>\n",
       "      <th>4294</th>\n",
       "      <td>18281</td>\n",
       "      <td>1</td>\n",
       "    </tr>\n",
       "    <tr>\n",
       "      <th>4295</th>\n",
       "      <td>18282</td>\n",
       "      <td>2</td>\n",
       "    </tr>\n",
       "    <tr>\n",
       "      <th>4296</th>\n",
       "      <td>18283</td>\n",
       "      <td>16</td>\n",
       "    </tr>\n",
       "    <tr>\n",
       "      <th>4297</th>\n",
       "      <td>18287</td>\n",
       "      <td>3</td>\n",
       "    </tr>\n",
       "  </tbody>\n",
       "</table>\n",
       "<p>4298 rows × 2 columns</p>\n",
       "</div>"
      ],
      "text/plain": [
       "      CustomerID  Frequency\n",
       "0          12347          7\n",
       "1          12348          4\n",
       "2          12349          1\n",
       "3          12350          1\n",
       "4          12352          7\n",
       "...          ...        ...\n",
       "4293       18280          1\n",
       "4294       18281          1\n",
       "4295       18282          2\n",
       "4296       18283         16\n",
       "4297       18287          3\n",
       "\n",
       "[4298 rows x 2 columns]"
      ]
     },
     "execution_count": 27,
     "metadata": {},
     "output_type": "execute_result"
    }
   ],
   "source": [
    "frequency_data=df_data.groupby(by=['CustomerID'])['InvoiceNo'].count().reset_index()\n",
    "frequency_data.rename(columns= {'InvoiceNo': 'Frequency'}, inplace = True)\n",
    "frequency_data"
   ]
  },
  {
   "cell_type": "markdown",
   "id": "e603d952",
   "metadata": {},
   "source": [
    "### caluculating Monetary"
   ]
  },
  {
   "cell_type": "code",
   "execution_count": 29,
   "id": "d1a57918",
   "metadata": {},
   "outputs": [
    {
     "data": {
      "text/html": [
       "<div>\n",
       "<style scoped>\n",
       "    .dataframe tbody tr th:only-of-type {\n",
       "        vertical-align: middle;\n",
       "    }\n",
       "\n",
       "    .dataframe tbody tr th {\n",
       "        vertical-align: top;\n",
       "    }\n",
       "\n",
       "    .dataframe thead th {\n",
       "        text-align: right;\n",
       "    }\n",
       "</style>\n",
       "<table border=\"1\" class=\"dataframe\">\n",
       "  <thead>\n",
       "    <tr style=\"text-align: right;\">\n",
       "      <th></th>\n",
       "      <th>CustomerID</th>\n",
       "      <th>MonetaryValue</th>\n",
       "    </tr>\n",
       "  </thead>\n",
       "  <tbody>\n",
       "    <tr>\n",
       "      <th>0</th>\n",
       "      <td>12347</td>\n",
       "      <td>163.16</td>\n",
       "    </tr>\n",
       "    <tr>\n",
       "      <th>1</th>\n",
       "      <td>12348</td>\n",
       "      <td>331.36</td>\n",
       "    </tr>\n",
       "    <tr>\n",
       "      <th>2</th>\n",
       "      <td>12349</td>\n",
       "      <td>15.00</td>\n",
       "    </tr>\n",
       "    <tr>\n",
       "      <th>3</th>\n",
       "      <td>12350</td>\n",
       "      <td>25.20</td>\n",
       "    </tr>\n",
       "    <tr>\n",
       "      <th>4</th>\n",
       "      <td>12352</td>\n",
       "      <td>135.30</td>\n",
       "    </tr>\n",
       "  </tbody>\n",
       "</table>\n",
       "</div>"
      ],
      "text/plain": [
       "   CustomerID  MonetaryValue\n",
       "0       12347         163.16\n",
       "1       12348         331.36\n",
       "2       12349          15.00\n",
       "3       12350          25.20\n",
       "4       12352         135.30"
      ]
     },
     "execution_count": 29,
     "metadata": {},
     "output_type": "execute_result"
    }
   ],
   "source": [
    "df_monetary=df_data.groupby(by=['CustomerID'])['TotalPrice'].sum().reset_index()\n",
    "df_monetary.rename(columns={'TotalPrice':'MonetaryValue'},inplace = True)\n",
    "df_monetary.head()"
   ]
  },
  {
   "cell_type": "code",
   "execution_count": 30,
   "id": "fdadcc37",
   "metadata": {},
   "outputs": [
    {
     "data": {
      "text/html": [
       "<div>\n",
       "<style scoped>\n",
       "    .dataframe tbody tr th:only-of-type {\n",
       "        vertical-align: middle;\n",
       "    }\n",
       "\n",
       "    .dataframe tbody tr th {\n",
       "        vertical-align: top;\n",
       "    }\n",
       "\n",
       "    .dataframe thead th {\n",
       "        text-align: right;\n",
       "    }\n",
       "</style>\n",
       "<table border=\"1\" class=\"dataframe\">\n",
       "  <thead>\n",
       "    <tr style=\"text-align: right;\">\n",
       "      <th></th>\n",
       "      <th>CustomerID</th>\n",
       "      <th>recent</th>\n",
       "      <th>Frequency</th>\n",
       "      <th>MonetaryValue</th>\n",
       "    </tr>\n",
       "  </thead>\n",
       "  <tbody>\n",
       "    <tr>\n",
       "      <th>0</th>\n",
       "      <td>12347</td>\n",
       "      <td>4496 days</td>\n",
       "      <td>7</td>\n",
       "      <td>163.16</td>\n",
       "    </tr>\n",
       "    <tr>\n",
       "      <th>1</th>\n",
       "      <td>12348</td>\n",
       "      <td>4569 days</td>\n",
       "      <td>4</td>\n",
       "      <td>331.36</td>\n",
       "    </tr>\n",
       "    <tr>\n",
       "      <th>2</th>\n",
       "      <td>12349</td>\n",
       "      <td>4512 days</td>\n",
       "      <td>1</td>\n",
       "      <td>15.00</td>\n",
       "    </tr>\n",
       "    <tr>\n",
       "      <th>3</th>\n",
       "      <td>12350</td>\n",
       "      <td>4804 days</td>\n",
       "      <td>1</td>\n",
       "      <td>25.20</td>\n",
       "    </tr>\n",
       "    <tr>\n",
       "      <th>4</th>\n",
       "      <td>12352</td>\n",
       "      <td>4530 days</td>\n",
       "      <td>7</td>\n",
       "      <td>135.30</td>\n",
       "    </tr>\n",
       "  </tbody>\n",
       "</table>\n",
       "</div>"
      ],
      "text/plain": [
       "   CustomerID    recent  Frequency  MonetaryValue\n",
       "0       12347 4496 days          7         163.16\n",
       "1       12348 4569 days          4         331.36\n",
       "2       12349 4512 days          1          15.00\n",
       "3       12350 4804 days          1          25.20\n",
       "4       12352 4530 days          7         135.30"
      ]
     },
     "execution_count": 30,
     "metadata": {},
     "output_type": "execute_result"
    }
   ],
   "source": [
    "df_rfm = df_recency.merge(frequency_data, on='CustomerID', how='left')\n",
    "df_rfm = df_rfm.merge(df_monetary, on='CustomerID', how='left')\n",
    "df_rfm.head()"
   ]
  },
  {
   "cell_type": "code",
   "execution_count": 31,
   "id": "1c1e03fa",
   "metadata": {},
   "outputs": [
    {
     "data": {
      "text/plain": [
       "(4298, 4)"
      ]
     },
     "execution_count": 31,
     "metadata": {},
     "output_type": "execute_result"
    }
   ],
   "source": [
    "df_rfm.shape"
   ]
  },
  {
   "cell_type": "markdown",
   "id": "0e4d0552",
   "metadata": {},
   "source": [
    "### Adding RFM Scores"
   ]
  },
  {
   "cell_type": "code",
   "execution_count": 32,
   "id": "f6320502",
   "metadata": {},
   "outputs": [
    {
     "data": {
      "text/html": [
       "<div>\n",
       "<style scoped>\n",
       "    .dataframe tbody tr th:only-of-type {\n",
       "        vertical-align: middle;\n",
       "    }\n",
       "\n",
       "    .dataframe tbody tr th {\n",
       "        vertical-align: top;\n",
       "    }\n",
       "\n",
       "    .dataframe thead th {\n",
       "        text-align: right;\n",
       "    }\n",
       "</style>\n",
       "<table border=\"1\" class=\"dataframe\">\n",
       "  <thead>\n",
       "    <tr style=\"text-align: right;\">\n",
       "      <th></th>\n",
       "      <th>CustomerID</th>\n",
       "      <th>recent</th>\n",
       "      <th>Frequency</th>\n",
       "      <th>MonetaryValue</th>\n",
       "      <th>RecencyScore</th>\n",
       "      <th>FrequencyScore</th>\n",
       "      <th>MonetaryScore</th>\n",
       "    </tr>\n",
       "  </thead>\n",
       "  <tbody>\n",
       "    <tr>\n",
       "      <th>0</th>\n",
       "      <td>12347</td>\n",
       "      <td>4496 days</td>\n",
       "      <td>7</td>\n",
       "      <td>163.16</td>\n",
       "      <td>5</td>\n",
       "      <td>1</td>\n",
       "      <td>1</td>\n",
       "    </tr>\n",
       "    <tr>\n",
       "      <th>1</th>\n",
       "      <td>12348</td>\n",
       "      <td>4569 days</td>\n",
       "      <td>4</td>\n",
       "      <td>331.36</td>\n",
       "      <td>4</td>\n",
       "      <td>1</td>\n",
       "      <td>1</td>\n",
       "    </tr>\n",
       "    <tr>\n",
       "      <th>2</th>\n",
       "      <td>12349</td>\n",
       "      <td>4512 days</td>\n",
       "      <td>1</td>\n",
       "      <td>15.00</td>\n",
       "      <td>5</td>\n",
       "      <td>1</td>\n",
       "      <td>1</td>\n",
       "    </tr>\n",
       "    <tr>\n",
       "      <th>3</th>\n",
       "      <td>12350</td>\n",
       "      <td>4804 days</td>\n",
       "      <td>1</td>\n",
       "      <td>25.20</td>\n",
       "      <td>1</td>\n",
       "      <td>1</td>\n",
       "      <td>1</td>\n",
       "    </tr>\n",
       "    <tr>\n",
       "      <th>4</th>\n",
       "      <td>12352</td>\n",
       "      <td>4530 days</td>\n",
       "      <td>7</td>\n",
       "      <td>135.30</td>\n",
       "      <td>5</td>\n",
       "      <td>1</td>\n",
       "      <td>1</td>\n",
       "    </tr>\n",
       "  </tbody>\n",
       "</table>\n",
       "</div>"
      ],
      "text/plain": [
       "   CustomerID    recent  Frequency  MonetaryValue RecencyScore FrequencyScore  \\\n",
       "0       12347 4496 days          7         163.16            5              1   \n",
       "1       12348 4569 days          4         331.36            4              1   \n",
       "2       12349 4512 days          1          15.00            5              1   \n",
       "3       12350 4804 days          1          25.20            1              1   \n",
       "4       12352 4530 days          7         135.30            5              1   \n",
       "\n",
       "  MonetaryScore  \n",
       "0             1  \n",
       "1             1  \n",
       "2             1  \n",
       "3             1  \n",
       "4             1  "
      ]
     },
     "execution_count": 32,
     "metadata": {},
     "output_type": "execute_result"
    }
   ],
   "source": [
    "recency_scores = [5, 4, 3, 2, 1]\n",
    "frequency_scores = [1, 2, 3, 4, 5]\n",
    "monetary_scores = [1, 2, 3, 4 ,5]\n",
    "#Cut function is used to separate the array elements into different bins\n",
    "df_rfm['RecencyScore'] = pd.cut(df_rfm['recent'], bins = 5, labels= recency_scores)\n",
    "df_rfm['FrequencyScore'] = pd.cut(df_rfm['Frequency'], bins = 5, labels= frequency_scores)\n",
    "df_rfm['MonetaryScore'] = pd.cut(df_rfm['MonetaryValue'], bins= 5, labels= monetary_scores)\n",
    "df_rfm.head()"
   ]
  },
  {
   "cell_type": "code",
   "execution_count": 33,
   "id": "c05126b6",
   "metadata": {},
   "outputs": [],
   "source": [
    "df_rfm['RecencyScore'] = df_rfm['RecencyScore'].astype(int)\n",
    "df_rfm['FrequencyScore'] = df_rfm['FrequencyScore'].astype(int)\n",
    "df_rfm['MonetaryScore'] = df_rfm['MonetaryScore'].astype(int)"
   ]
  },
  {
   "cell_type": "code",
   "execution_count": 34,
   "id": "3b375ce3",
   "metadata": {},
   "outputs": [
    {
     "name": "stdout",
     "output_type": "stream",
     "text": [
      "<class 'pandas.core.frame.DataFrame'>\n",
      "RangeIndex: 4298 entries, 0 to 4297\n",
      "Data columns (total 7 columns):\n",
      " #   Column          Non-Null Count  Dtype          \n",
      "---  ------          --------------  -----          \n",
      " 0   CustomerID      4298 non-null   int32          \n",
      " 1   recent          4298 non-null   timedelta64[ns]\n",
      " 2   Frequency       4298 non-null   int64          \n",
      " 3   MonetaryValue   4298 non-null   float64        \n",
      " 4   RecencyScore    4298 non-null   int32          \n",
      " 5   FrequencyScore  4298 non-null   int32          \n",
      " 6   MonetaryScore   4298 non-null   int32          \n",
      "dtypes: float64(1), int32(4), int64(1), timedelta64[ns](1)\n",
      "memory usage: 168.0 KB\n"
     ]
    }
   ],
   "source": [
    "df_rfm.info()"
   ]
  },
  {
   "cell_type": "code",
   "execution_count": 35,
   "id": "fc97d165",
   "metadata": {},
   "outputs": [
    {
     "data": {
      "text/html": [
       "<div>\n",
       "<style scoped>\n",
       "    .dataframe tbody tr th:only-of-type {\n",
       "        vertical-align: middle;\n",
       "    }\n",
       "\n",
       "    .dataframe tbody tr th {\n",
       "        vertical-align: top;\n",
       "    }\n",
       "\n",
       "    .dataframe thead th {\n",
       "        text-align: right;\n",
       "    }\n",
       "</style>\n",
       "<table border=\"1\" class=\"dataframe\">\n",
       "  <thead>\n",
       "    <tr style=\"text-align: right;\">\n",
       "      <th></th>\n",
       "      <th>CustomerID</th>\n",
       "      <th>recent</th>\n",
       "      <th>Frequency</th>\n",
       "      <th>MonetaryValue</th>\n",
       "      <th>RecencyScore</th>\n",
       "      <th>FrequencyScore</th>\n",
       "      <th>MonetaryScore</th>\n",
       "      <th>RFM_Score</th>\n",
       "      <th>Value Segment</th>\n",
       "    </tr>\n",
       "  </thead>\n",
       "  <tbody>\n",
       "    <tr>\n",
       "      <th>0</th>\n",
       "      <td>12347</td>\n",
       "      <td>4496 days</td>\n",
       "      <td>7</td>\n",
       "      <td>163.16</td>\n",
       "      <td>5</td>\n",
       "      <td>1</td>\n",
       "      <td>1</td>\n",
       "      <td>7</td>\n",
       "      <td>Mid-Value</td>\n",
       "    </tr>\n",
       "    <tr>\n",
       "      <th>1</th>\n",
       "      <td>12348</td>\n",
       "      <td>4569 days</td>\n",
       "      <td>4</td>\n",
       "      <td>331.36</td>\n",
       "      <td>4</td>\n",
       "      <td>1</td>\n",
       "      <td>1</td>\n",
       "      <td>6</td>\n",
       "      <td>Low-Value</td>\n",
       "    </tr>\n",
       "    <tr>\n",
       "      <th>2</th>\n",
       "      <td>12349</td>\n",
       "      <td>4512 days</td>\n",
       "      <td>1</td>\n",
       "      <td>15.00</td>\n",
       "      <td>5</td>\n",
       "      <td>1</td>\n",
       "      <td>1</td>\n",
       "      <td>7</td>\n",
       "      <td>Mid-Value</td>\n",
       "    </tr>\n",
       "    <tr>\n",
       "      <th>3</th>\n",
       "      <td>12350</td>\n",
       "      <td>4804 days</td>\n",
       "      <td>1</td>\n",
       "      <td>25.20</td>\n",
       "      <td>1</td>\n",
       "      <td>1</td>\n",
       "      <td>1</td>\n",
       "      <td>3</td>\n",
       "      <td>Low-Value</td>\n",
       "    </tr>\n",
       "    <tr>\n",
       "      <th>4</th>\n",
       "      <td>12352</td>\n",
       "      <td>4530 days</td>\n",
       "      <td>7</td>\n",
       "      <td>135.30</td>\n",
       "      <td>5</td>\n",
       "      <td>1</td>\n",
       "      <td>1</td>\n",
       "      <td>7</td>\n",
       "      <td>Mid-Value</td>\n",
       "    </tr>\n",
       "  </tbody>\n",
       "</table>\n",
       "</div>"
      ],
      "text/plain": [
       "   CustomerID    recent  Frequency  MonetaryValue  RecencyScore  \\\n",
       "0       12347 4496 days          7         163.16             5   \n",
       "1       12348 4569 days          4         331.36             4   \n",
       "2       12349 4512 days          1          15.00             5   \n",
       "3       12350 4804 days          1          25.20             1   \n",
       "4       12352 4530 days          7         135.30             5   \n",
       "\n",
       "   FrequencyScore  MonetaryScore  RFM_Score Value Segment  \n",
       "0               1              1          7     Mid-Value  \n",
       "1               1              1          6     Low-Value  \n",
       "2               1              1          7     Mid-Value  \n",
       "3               1              1          3     Low-Value  \n",
       "4               1              1          7     Mid-Value  "
      ]
     },
     "execution_count": 35,
     "metadata": {},
     "output_type": "execute_result"
    }
   ],
   "source": [
    "df_rfm['RFM_Score'] = df_rfm['RecencyScore'] + df_rfm['FrequencyScore'] + df_rfm['MonetaryScore']\n",
    "segment_labels = ['Low-Value', 'Mid-Value', 'High-Value']\n",
    "df_rfm['Value Segment'] = pd.qcut(df_rfm['RFM_Score'], q= 3, labels= segment_labels)\n",
    "df_rfm.head()"
   ]
  },
  {
   "cell_type": "markdown",
   "id": "79045461",
   "metadata": {},
   "source": [
    "### Fetching RFM_Segments"
   ]
  },
  {
   "cell_type": "code",
   "execution_count": null,
   "id": "c46bcf47",
   "metadata": {},
   "outputs": [],
   "source": [
    "segment_counts = df_rfm['Value Segment'].value_counts().reset_index()\n",
    "segment_counts.columns = ['Value Segment', 'Count']\n",
    "segment_counts.head()"
   ]
  },
  {
   "cell_type": "code",
   "execution_count": 37,
   "id": "eb40ab0e",
   "metadata": {},
   "outputs": [
    {
     "data": {
      "image/png": "[encoded data removed]",
      "text/plain": [
       "<Figure size 1000x600 with 1 Axes>"
      ]
     },
     "metadata": {},
     "output_type": "display_data"
    }
   ],
   "source": [
    "pastel_colors = sns.color_palette('pastel')\n",
    "plt.figure(figsize=(10,6))\n",
    "sns.barplot(data = segment_counts, x = 'Value Segment', y = 'Count', palette= pastel_colors)\n",
    "plt.title('RFM Value Segment Distribution')\n",
    "plt.xlabel('RFM Value Segment')\n",
    "plt.ylabel('Count')\n",
    "plt.show()"
   ]
  },
  {
   "cell_type": "markdown",
   "id": "dd43df67",
   "metadata": {},
   "source": [
    "### Segmentation of customers based on RFM_Scores"
   ]
  },
  {
   "cell_type": "code",
   "execution_count": 39,
   "id": "37165684",
   "metadata": {},
   "outputs": [
    {
     "data": {
      "text/html": [
       "<div>\n",
       "<style scoped>\n",
       "    .dataframe tbody tr th:only-of-type {\n",
       "        vertical-align: middle;\n",
       "    }\n",
       "\n",
       "    .dataframe tbody tr th {\n",
       "        vertical-align: top;\n",
       "    }\n",
       "\n",
       "    .dataframe thead th {\n",
       "        text-align: right;\n",
       "    }\n",
       "</style>\n",
       "<table border=\"1\" class=\"dataframe\">\n",
       "  <thead>\n",
       "    <tr style=\"text-align: right;\">\n",
       "      <th></th>\n",
       "      <th>CustomerID</th>\n",
       "      <th>RFM Customer Segments</th>\n",
       "    </tr>\n",
       "  </thead>\n",
       "  <tbody>\n",
       "    <tr>\n",
       "      <th>0</th>\n",
       "      <td>12347</td>\n",
       "      <td>Promising</td>\n",
       "    </tr>\n",
       "    <tr>\n",
       "      <th>1</th>\n",
       "      <td>12348</td>\n",
       "      <td>Can't lose them</td>\n",
       "    </tr>\n",
       "    <tr>\n",
       "      <th>2</th>\n",
       "      <td>12349</td>\n",
       "      <td>Promising</td>\n",
       "    </tr>\n",
       "    <tr>\n",
       "      <th>3</th>\n",
       "      <td>12350</td>\n",
       "      <td>Hibernating</td>\n",
       "    </tr>\n",
       "    <tr>\n",
       "      <th>4</th>\n",
       "      <td>12352</td>\n",
       "      <td>Promising</td>\n",
       "    </tr>\n",
       "    <tr>\n",
       "      <th>...</th>\n",
       "      <td>...</td>\n",
       "      <td>...</td>\n",
       "    </tr>\n",
       "    <tr>\n",
       "      <th>4293</th>\n",
       "      <td>18280</td>\n",
       "      <td>Can't lose them</td>\n",
       "    </tr>\n",
       "    <tr>\n",
       "      <th>4294</th>\n",
       "      <td>18281</td>\n",
       "      <td>Can't lose them</td>\n",
       "    </tr>\n",
       "    <tr>\n",
       "      <th>4295</th>\n",
       "      <td>18282</td>\n",
       "      <td>Promising</td>\n",
       "    </tr>\n",
       "    <tr>\n",
       "      <th>4296</th>\n",
       "      <td>18283</td>\n",
       "      <td>Promising</td>\n",
       "    </tr>\n",
       "    <tr>\n",
       "      <th>4297</th>\n",
       "      <td>18287</td>\n",
       "      <td>Promising</td>\n",
       "    </tr>\n",
       "  </tbody>\n",
       "</table>\n",
       "<p>4298 rows × 2 columns</p>\n",
       "</div>"
      ],
      "text/plain": [
       "      CustomerID RFM Customer Segments\n",
       "0          12347             Promising\n",
       "1          12348       Can't lose them\n",
       "2          12349             Promising\n",
       "3          12350           Hibernating\n",
       "4          12352             Promising\n",
       "...          ...                   ...\n",
       "4293       18280       Can't lose them\n",
       "4294       18281       Can't lose them\n",
       "4295       18282             Promising\n",
       "4296       18283             Promising\n",
       "4297       18287             Promising\n",
       "\n",
       "[4298 rows x 2 columns]"
      ]
     },
     "execution_count": 39,
     "metadata": {},
     "output_type": "execute_result"
    }
   ],
   "source": [
    "df_rfm['RFM Customer Segments'] = ''\n",
    "df_rfm.loc[df_rfm['RFM_Score'].between(12, 15), 'RFM Customer Segments'] = 'Champions'\n",
    "df_rfm.loc[df_rfm['RFM_Score'].between(9, 11), 'RFM Customer Segments'] = 'Loyal customers'\n",
    "df_rfm.loc[df_rfm['RFM_Score'].between(8, 9), 'RFM Customer Segments'] = 'Potential loyalist'\n",
    "df_rfm.loc[df_rfm['RFM_Score'].between(6, 7), 'RFM Customer Segments'] = 'Recent customers'\n",
    "df_rfm.loc[df_rfm['RFM_Score'].between(6, 7), 'RFM Customer Segments'] = 'Promising'\n",
    "df_rfm.loc[df_rfm['RFM_Score'].between(5, 6), 'RFM Customer Segments'] = 'Needs attention'\n",
    "df_rfm.loc[df_rfm['RFM_Score'].between(3, 4), 'RFM Customer Segments'] = 'About to sleep'\n",
    "df_rfm.loc[df_rfm['RFM_Score'].between(3, 6), 'RFM Customer Segments'] = 'At risk'\n",
    "df_rfm.loc[df_rfm['RFM_Score'].between(3, 6), 'RFM Customer Segments'] = \"Can't lose them\"\n",
    "df_rfm.loc[df_rfm['RFM_Score'].between(2, 3), 'RFM Customer Segments'] = 'Hibernating'\n",
    "df_rfm[['CustomerID', 'RFM Customer Segments']]"
   ]
  },
  {
   "cell_type": "code",
   "execution_count": 41,
   "id": "962447c4",
   "metadata": {},
   "outputs": [
    {
     "data": {
      "image/png": "[encoded data removed]",
      "text/plain": [
       "<Figure size 1000x600 with 1 Axes>"
      ]
     },
     "metadata": {},
     "output_type": "display_data"
    }
   ],
   "source": [
    "segment_counts = df_rfm['RFM Customer Segments'].value_counts()\n",
    "plt.figure(figsize=(10,6))\n",
    "sns.barplot(x = segment_counts.index, y=segment_counts.values, palette= 'pastel')\n",
    "champions_color = pastel_colors[9]\n",
    "colors = [champions_color if segment == 'Champions' else pastel_colors[i] for i, segment in enumerate(segment_counts.index)]\n",
    "ax = plt.gca()\n",
    "for i, bar in enumerate(ax.patches):\n",
    "    bar.set_color(colors[i])\n",
    "plt.title('Comparison of RFM Segments')\n",
    "plt.xlabel('RFM Segments')\n",
    "plt.ylabel('Number of Customers')\n",
    "ax.yaxis.grid(False)\n",
    "plt.show()"
   ]
  },
  {
   "cell_type": "code",
   "execution_count": 50,
   "id": "4a3ee479",
   "metadata": {},
   "outputs": [
    {
     "data": {
      "text/plain": [
       "<Axes: >"
      ]
     },
     "execution_count": 50,
     "metadata": {},
     "output_type": "execute_result"
    },
    {
     "data": {
      "image/png": "[encoded data removed]",
      "text/plain": [
       "<Figure size 640x480 with 1 Axes>"
      ]
     },
     "metadata": {},
     "output_type": "display_data"
    }
   ],
   "source": [
    "segment_counts = pd.DataFrame(df_rfm['RFM Customer Segments'].value_counts())\n",
    "dic={\"others\":segment_counts['count'][1:].sum(),'Promicing':segment_counts['count'][:1].sum()}\n",
    "sns.barplot(x = list(dic.keys()), y=list(dic.values()))"
   ]
  },
  {
   "cell_type": "markdown",
   "id": "81672161",
   "metadata": {},
   "source": [
    "# Conclusion:"
   ]
  },
  {
   "cell_type": "markdown",
   "id": "4c507449",
   "metadata": {},
   "source": [
    "From the above RFM_segmentation analysis we can observe that there are much more promising customers and we have around 38% people from 'can't lose them' category of customers and from the given 10 customer segementation according to data after calulating rfm scores  based on rfm scores only customers are segmented to 'Promising','Cant lose them','Hibernating','Potential loyalists','Loyal customers','champions'and to increase the bussiness its better they increase customers of champions category by giviing more discounts membership cards and focussing campighns on promising and cantlose them and champions and to know the depth analysis of reasons what infleunced the customers to be their respective categories like being promisisng customers or champions we can go for other models and analyze churn of customers."
   ]
  }
 ],
 "metadata": {
  "kernelspec": {
   "display_name": "Python 3 (ipykernel)",
   "language": "python",
   "name": "python3"
  },
  "language_info": {
   "codemirror_mode": {
    "name": "ipython",
    "version": 3
   },
   "file_extension": ".py",
   "mimetype": "text/x-python",
   "name": "python",
   "nbconvert_exporter": "python",
   "pygments_lexer": "ipython3",
   "version": "3.11.5"
  }
 },
 "nbformat": 4,
 "nbformat_minor": 5
}
